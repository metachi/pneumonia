{
 "cells": [
  {
   "cell_type": "code",
   "execution_count": 3,
   "metadata": {
    "collapsed": true
   },
   "outputs": [],
   "source": [
    "%reload_ext autoreload\n",
    "%autoreload 2\n",
    "%matplotlib inline"
   ]
  },
  {
   "cell_type": "markdown",
   "metadata": {},
   "source": [
    "# Setup"
   ]
  },
  {
   "cell_type": "markdown",
   "metadata": {},
   "source": [
    "\n",
    "1) Create a Kaggle Account\n",
    " - https://www.kaggle.com/\n",
    "\n",
    "2) Accept Competition Rules\n",
    " - https://www.kaggle.com/c/rsna-pneumonia-detection-challenge/\n",
    "\n",
    "3) Download and Install the official Kaggle CLI\n",
    " - https://github.com/Kaggle/kaggle-api\n",
    " \n",
    "4) Download the competition data\n",
    " - Navigate to the directory you want to download the data to ( ```cd pneumonia/data/``` )\n",
    " - Run Command: ```kaggle competitions download rsna-pneumonia-detection-challenge```"
   ]
  },
  {
   "cell_type": "markdown",
   "metadata": {},
   "source": [
    "# Helpful Links"
   ]
  },
  {
   "cell_type": "markdown",
   "metadata": {},
   "source": [
    "### Stanford cs231n Lecture on Object Detection:\n",
    " - https://www.youtube.com/watch?v=nDPWywWRIRo\n",
    "\n",
    "### Relevant Materials from Fast AI:\n",
    " - http://course.fast.ai/lessons/lesson9.html\n",
    " - https://github.com/fastai/fastai/blob/master/courses/dl2/pascal.ipynb\n",
    " - https://github.com/fastai/fastai/blob/master/courses/dl2/pascal-multi.ipynb\n",
    " - https://github.com/fastai/fastai/blob/master/courses/dl1/fish.ipynb"
   ]
  },
  {
   "cell_type": "code",
   "execution_count": null,
   "metadata": {
    "collapsed": true
   },
   "outputs": [],
   "source": []
  }
 ],
 "metadata": {
  "kernelspec": {
   "display_name": "Python 3",
   "language": "python",
   "name": "python3"
  },
  "language_info": {
   "codemirror_mode": {
    "name": "ipython",
    "version": 3
   },
   "file_extension": ".py",
   "mimetype": "text/x-python",
   "name": "python",
   "nbconvert_exporter": "python",
   "pygments_lexer": "ipython3",
   "version": "3.6.3"
  }
 },
 "nbformat": 4,
 "nbformat_minor": 2
}
